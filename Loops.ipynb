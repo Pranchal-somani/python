{
 "cells": [
  {
   "cell_type": "markdown",
   "metadata": {},
   "source": [
    "# loops\n"
   ]
  },
  {
   "cell_type": "code",
   "execution_count": null,
   "metadata": {},
   "outputs": [],
   "source": [
    "\n",
    "os.system(\"notepad\")"
   ]
  },
  {
   "cell_type": "code",
   "execution_count": null,
   "metadata": {},
   "outputs": [],
   "source": []
  },
  {
   "cell_type": "code",
   "execution_count": 10,
   "metadata": {},
   "outputs": [
    {
     "name": "stdout",
     "output_type": "stream",
     "text": [
      "enter a no :6\n",
      "6   x   1 \t =   6 \n",
      "6   x   2 \t =  12 \n",
      "6   x   3 \t =  18 \n",
      "6   x   4 \t =  24 \n",
      "6   x   5 \t =  30 \n",
      "6   x   6 \t =  36 \n",
      "6   x   7 \t =  42 \n",
      "6   x   8 \t =  48 \n",
      "6   x   9 \t =  54 \n",
      "6   x  10 \t =  60 \n",
      "loop completed\n"
     ]
    }
   ],
   "source": [
    "\n",
    "i=1\n",
    "num= int(input(\"enter a no :\"))\n",
    "while i<=10 :\n",
    "          print(f\"{num:<3} x {i:>3} \\t = {num*i:>3} \")\n",
    "          i=i+1\n",
    "else :\n",
    "    print(\"loop completed\")"
   ]
  },
  {
   "cell_type": "code",
   "execution_count": 12,
   "metadata": {},
   "outputs": [
    {
     "name": "stdout",
     "output_type": "stream",
     "text": [
      "enter a no :2\n",
      "2     **   1 \t = \t 2       \n",
      "2     **   2 \t = \t 4       \n",
      "2     **   3 \t = \t 8       \n",
      "2     **   4 \t = \t 16      \n",
      "2     **   5 \t = \t 32      \n",
      "2     **   6 \t = \t 64      \n",
      "2     **   7 \t = \t 128     \n",
      "2     **   8 \t = \t 256     \n",
      "2     **   9 \t = \t 512     \n",
      "2     **  10 \t = \t 1024    \n",
      "loop completed\n"
     ]
    }
   ],
   "source": [
    "i=1\n",
    "num= int(input(\"enter a no :\"))\n",
    "while i<=10 :\n",
    "          print(f\"{num:<5} ** {i:>3} \\t = \\t {num**i:<7} \")\n",
    "          i=i+1\n",
    "else :\n",
    "    print(\"loop completed\")"
   ]
  },
  {
   "cell_type": "code",
   "execution_count": 14,
   "metadata": {},
   "outputs": [
    {
     "name": "stdout",
     "output_type": "stream",
     "text": [
      "hello world 1\n",
      "hello world 2\n",
      "hello world 4\n",
      "hello world 6\n",
      "hello world 8\n",
      "hello world 10\n",
      "done\n"
     ]
    }
   ],
   "source": [
    "c=1\n",
    "while c<=10 :\n",
    "    print(\"hello world\",c)\n",
    "    if c %2 :\n",
    "        c+=1\n",
    "    else :\n",
    "        c+=2\n",
    "else :\n",
    "    print(\"done\")"
   ]
  },
  {
   "cell_type": "code",
   "execution_count": 15,
   "metadata": {},
   "outputs": [],
   "source": [
    "#break\n"
   ]
  },
  {
   "cell_type": "code",
   "execution_count": 1,
   "metadata": {},
   "outputs": [
    {
     "name": "stdout",
     "output_type": "stream",
     "text": [
      "enter your guess (1,50) :4\n",
      " hint!\n",
      " your guess is smaller\n",
      "\n",
      "\n",
      "\n",
      "you have 4 chances left\n",
      "enter your guess (1,50) :56\n",
      "xxxx warning xxxx please enter between 1 and 50\n",
      "enter your guess (1,50) :6\n",
      " hint!\n",
      " your guess is smaller\n",
      "\n",
      "\n",
      "\n",
      "you have 3 chances left\n",
      "enter your guess (1,50) :45\n",
      "hint! \n",
      "your guess is bigger\n",
      "\n",
      "\n",
      "\n",
      "you have 2 chances left\n",
      "enter your guess (1,50) :34\n",
      " hint!\n",
      " your guess is smaller\n",
      "\n",
      "\n",
      "\n",
      "you have 1 chances left\n",
      "enter your guess (1,50) :43\n",
      "hint! \n",
      "your guess is bigger\n",
      "\n",
      "\n",
      "\n",
      "you have 0 chances left\n",
      "you are  looser\n"
     ]
    }
   ],
   "source": [
    "from random import randint,choice\n",
    "i=1\n",
    "num2 =randint(1,50)\n",
    "while i<=5 :\n",
    "    num1 =int(input(\"enter your guess (1,50) :\"))\n",
    "    if num1 >50 :\n",
    "        print(\"xxxx warning xxxx please enter between 1 and 50\")\n",
    "        continue\n",
    "    else :\n",
    "        if num1 <num2 :\n",
    "            print(\" hint!\\n your guess is smaller\")\n",
    "        elif num1 >num2 :\n",
    "            print(\"hint! \\nyour guess is bigger\")\n",
    "        else :\n",
    "            print(\"you won the game\")\n",
    "            break\n",
    "    \n",
    "    print(\"\\n\\n\")\n",
    "    print(f\"you have {5-i} chances left\")\n",
    "    i=i+1 \n",
    "else :\n",
    "    print(\"you are  looser\")\n"
   ]
  },
  {
   "cell_type": "code",
   "execution_count": null,
   "metadata": {},
   "outputs": [],
   "source": []
  }
 ],
 "metadata": {
  "kernelspec": {
   "display_name": "Python 3",
   "language": "python",
   "name": "python3"
  },
  "language_info": {
   "codemirror_mode": {
    "name": "ipython",
    "version": 3
   },
   "file_extension": ".py",
   "mimetype": "text/x-python",
   "name": "python",
   "nbconvert_exporter": "python",
   "pygments_lexer": "ipython3",
   "version": "3.7.3"
  }
 },
 "nbformat": 4,
 "nbformat_minor": 2
}
