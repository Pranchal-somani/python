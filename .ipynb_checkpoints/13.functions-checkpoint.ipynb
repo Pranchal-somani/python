{
 "cells": [
  {
   "cell_type": "code",
   "execution_count": 4,
   "metadata": {},
   "outputs": [],
   "source": [
    "even=lambda x :   'odd' if x%2 else 'even'"
   ]
  },
  {
   "cell_type": "code",
   "execution_count": 5,
   "metadata": {},
   "outputs": [
    {
     "data": {
      "text/plain": [
       "'even'"
      ]
     },
     "execution_count": 5,
     "metadata": {},
     "output_type": "execute_result"
    }
   ],
   "source": [
    "even(10)"
   ]
  },
  {
   "cell_type": "code",
   "execution_count": 6,
   "metadata": {},
   "outputs": [],
   "source": [
    "fact=lambda num : 1 if num==1 else num*fact(num-1)"
   ]
  },
  {
   "cell_type": "code",
   "execution_count": 7,
   "metadata": {},
   "outputs": [
    {
     "data": {
      "text/plain": [
       "120"
      ]
     },
     "execution_count": 7,
     "metadata": {},
     "output_type": "execute_result"
    }
   ],
   "source": [
    "fact(5)"
   ]
  },
  {
   "cell_type": "code",
   "execution_count": 9,
   "metadata": {},
   "outputs": [
    {
     "data": {
      "text/plain": [
       "125"
      ]
     },
     "execution_count": 9,
     "metadata": {},
     "output_type": "execute_result"
    }
   ],
   "source": [
    "(lambda x:x**3)(5)"
   ]
  },
  {
   "cell_type": "code",
   "execution_count": 11,
   "metadata": {},
   "outputs": [
    {
     "name": "stdout",
     "output_type": "stream",
     "text": [
      "enter x3\n",
      "enter y :4\n"
     ]
    },
    {
     "data": {
      "text/plain": [
       "25"
      ]
     },
     "execution_count": 11,
     "metadata": {},
     "output_type": "execute_result"
    }
   ],
   "source": [
    "(lambda x,y:x**2+y**2)(int(input(\"enter x\")),int(input(\"enter y :\")))"
   ]
  },
  {
   "cell_type": "code",
   "execution_count": 17,
   "metadata": {},
   "outputs": [
    {
     "name": "stdout",
     "output_type": "stream",
     "text": [
      "a :44\n",
      "b :55\n",
      "c :66\n"
     ]
    },
    {
     "data": {
      "text/plain": [
       "66"
      ]
     },
     "execution_count": 17,
     "metadata": {},
     "output_type": "execute_result"
    }
   ],
   "source": [
    "(lambda a,b,c: a if a>=b and a>=c else b if b>=c else c )(int(input(\"a :\")),int(input(\"b :\")),int(input(\"c :\")))"
   ]
  },
  {
   "cell_type": "code",
   "execution_count": 18,
   "metadata": {},
   "outputs": [],
   "source": [
    "from math import ceil,sqrt"
   ]
  },
  {
   "cell_type": "code",
   "execution_count": 24,
   "metadata": {},
   "outputs": [],
   "source": [
    "prime=(lambda num,check=2 : True if check==ceil(sqrt(num))+1 or num==2 else False if num %check==0 else prime(num,check+1))"
   ]
  },
  {
   "cell_type": "code",
   "execution_count": 25,
   "metadata": {},
   "outputs": [
    {
     "data": {
      "text/plain": [
       "True"
      ]
     },
     "execution_count": 25,
     "metadata": {},
     "output_type": "execute_result"
    }
   ],
   "source": [
    "prime(2)"
   ]
  },
  {
   "cell_type": "code",
   "execution_count": 23,
   "metadata": {},
   "outputs": [
    {
     "data": {
      "text/plain": [
       "False"
      ]
     },
     "execution_count": 23,
     "metadata": {},
     "output_type": "execute_result"
    }
   ],
   "source": [
    "(lambda num,check=2 : True if check==ceil(sqrt(num))+1 else False if num %check==0 else prime(num,check+1))(6)"
   ]
  },
  {
   "cell_type": "code",
   "execution_count": 26,
   "metadata": {},
   "outputs": [
    {
     "name": "stdout",
     "output_type": "stream",
     "text": [
      "Here is your X =  5\n"
     ]
    }
   ],
   "source": [
    "x = 5\n",
    "def hello():\n",
    "    print(\"Here is your X = \",x)\n",
    "    \n",
    "hello()"
   ]
  },
  {
   "cell_type": "code",
   "execution_count": null,
   "metadata": {},
   "outputs": [],
   "source": [
    "x  = 5\n",
    "def hello():\n",
    "    print(\"Here is your X = \",x**2)\n",
    "hello()"
   ]
  },
  {
   "cell_type": "code",
   "execution_count": null,
   "metadata": {},
   "outputs": [],
   "source": [
    "x = 5\n",
    "def hello():\n",
    "    x = x ** 2\n",
    "    print(\"Here is your X = \",x)\n",
    "print(\"Before x = \",x)\n",
    "hello()\n",
    "print(\"After x = \",x)"
   ]
  },
  {
   "cell_type": "code",
   "execution_count": null,
   "metadata": {},
   "outputs": [],
   "source": [
    " x= 5\n",
    "def hello():\n",
    "    global x \n",
    "    x = x ** 2\n",
    "    print(\"Here is your X = \",x)\n",
    "print(\"Before x = \",x)\n",
    "hello()\n",
    "print(\"After x = \",x)"
   ]
  },
  {
   "cell_type": "code",
   "execution_count": null,
   "metadata": {},
   "outputs": [],
   "source": [
    "x = 5\n",
    "def change(x):\n",
    "    x =  x ** 2 \n",
    "    print(x)\n",
    "print('berfore x = ',x)\n",
    "change(x)\n",
    "print('after x = ',x)"
   ]
  },
  {
   "cell_type": "code",
   "execution_count": null,
   "metadata": {},
   "outputs": [],
   "source": [
    "y = 5\n",
    "def change(x):\n",
    "    def hi():\n",
    "        print(\"x = \",x**2)\n",
    "        print(\"y = \",y)\n",
    "    hi()"
   ]
  },
  {
   "cell_type": "code",
   "execution_count": null,
   "metadata": {},
   "outputs": [],
   "source": [
    "change(y)"
   ]
  },
  {
   "cell_type": "code",
   "execution_count": null,
   "metadata": {},
   "outputs": [],
   "source": [
    "print(x)"
   ]
  },
  {
   "cell_type": "code",
   "execution_count": null,
   "metadata": {},
   "outputs": [],
   "source": [
    "def hi(x = 5):\n",
    "    print(locals())"
   ]
  },
  {
   "cell_type": "code",
   "execution_count": null,
   "metadata": {},
   "outputs": [],
   "source": [
    "hi()"
   ]
  },
  {
   "cell_type": "code",
   "execution_count": null,
   "metadata": {},
   "outputs": [],
   "source": [
    "def hi():\n",
    "    x = 5\n",
    "    print(\"Inside Hi Locals \",locals())\n",
    "    def hello():\n",
    "        y = 25 \n",
    "        print(\"Inside hello Locals \",locals())\n",
    "    hello()\n",
    "    print(\"After hello Locals \",locals())\n",
    "    \n",
    "hi()"
   ]
  },
  {
   "cell_type": "code",
   "execution_count": null,
   "metadata": {},
   "outputs": [],
   "source": [
    "x=5\n",
    "def un_local():\n",
    "    y = x \n",
    "    def local():\n",
    "        nonlocal y\n",
    "        y = y **2 \n",
    "        print(\"Inside local y = \",y)\n",
    "    print(\"Inside unlocal y = \",y)\n",
    "    local()\n",
    "    print(\"After local y = \",y)\n",
    "\n",
    "un_local()"
   ]
  },
  {
   "cell_type": "code",
   "execution_count": null,
   "metadata": {},
   "outputs": [],
   "source": [
    "def hello():\n",
    "    def hi():\n",
    "        pass\n",
    "    print(\"id of hi is \",id(hi))\n",
    "    hi()\n",
    "c = 1 \n",
    "while c <= 5 : \n",
    "    print(f\"Id of hello at iteration {c} is {id(hello)}\")\n",
    "    hello()\n",
    "    print(\"\\n\\n\")\n",
    "    c += 1"
   ]
  },
  {
   "cell_type": "code",
   "execution_count": null,
   "metadata": {},
   "outputs": [],
   "source": [
    "def hello(org):\n",
    "    org = org.strip().title() \n",
    "    def hi(age):\n",
    "        if age > 18 : \n",
    "            print(f\"you can drink according to {org}\")\n",
    "        else : \n",
    "            print(f\"you can not drink according to {org}\")\n",
    "    return hi\n",
    "    \n",
    "data =  hello(\"Government of India\")\n",
    "\n",
    "for var in range(16,21):\n",
    "    data(var)"
   ]
  },
  {
   "cell_type": "code",
   "execution_count": null,
   "metadata": {},
   "outputs": [],
   "source": [
    "p  = print # alias\n",
    "\n",
    "print(p)"
   ]
  },
  {
   "cell_type": "code",
   "execution_count": null,
   "metadata": {},
   "outputs": [],
   "source": [
    "p(\"hello world\")"
   ]
  },
  {
   "cell_type": "code",
   "execution_count": null,
   "metadata": {},
   "outputs": [],
   "source": [
    "id(p)=id(print)"
   ]
  },
  {
   "cell_type": "code",
   "execution_count": null,
   "metadata": {},
   "outputs": [],
   "source": [
    "def outer(func):\n",
    "    def inner(x,y):\n",
    "        print(\"pagal banaya bada mja aaya\")\n",
    "    return inner"
   ]
  },
  {
   "cell_type": "code",
   "execution_count": null,
   "metadata": {},
   "outputs": [],
   "source": [
    "@outer\n",
    "def add(x,y):\n",
    "    print(f\"{x}+{y} = {x+y}\")\n",
    "        \n",
    "#new_add = outer(add) \n",
    "#new_add(5,6)\n",
    "add(4,5)"
   ]
  },
  {
   "cell_type": "code",
   "execution_count": null,
   "metadata": {},
   "outputs": [],
   "source": [
    "def outer(func):\n",
    "    def inner(x,y):\n",
    "        print(\"pagal banaya bada mja aaya\")\n",
    "    return inner\n",
    "\n",
    "@outer\n",
    "def add(x,y):\n",
    "    print(f\"{x}+{y} = {x+y}\")\n",
    "    \n",
    "add(5,6)"
   ]
  },
  {
   "cell_type": "code",
   "execution_count": null,
   "metadata": {},
   "outputs": [],
   "source": [
    "def decorate(old_func):\n",
    "    def makeup(*args,**kwargs):\n",
    "        print(\"*\"*60)\n",
    "        print(\"*\"*60)\n",
    "        print()\n",
    "        old_func(*args,**kwargs)\n",
    "        print()\n",
    "        print(\"*\"*60)\n",
    "        print(\"*\"*60)\n",
    "    return makeup\n",
    "@decorate\n",
    "def add(x,y):\n",
    "    print(x+y)\n",
    "    \n",
    "add(4,5)"
   ]
  },
  {
   "cell_type": "code",
   "execution_count": null,
   "metadata": {},
   "outputs": [],
   "source": [
    "@decorate\n",
    "def hello():\n",
    "    print(\"Hello World Welcome to Decorators.\".center(60))\n",
    "hello()"
   ]
  },
  {
   "cell_type": "code",
   "execution_count": null,
   "metadata": {},
   "outputs": [],
   "source": [
    "@decorate\n",
    "def hello(name):\n",
    "    print(\"hello world \",name)"
   ]
  },
  {
   "cell_type": "code",
   "execution_count": null,
   "metadata": {},
   "outputs": [],
   "source": [
    "hello('sachin')"
   ]
  },
  {
   "cell_type": "code",
   "execution_count": null,
   "metadata": {},
   "outputs": [],
   "source": [
    "@decorate\n",
    "def even(num):\n",
    "    if num %  2 : \n",
    "        print(f\"Given {num} is Odd.\".center(60))\n",
    "    else : \n",
    "        print(f\"Given {num} is Even\".center(60))"
   ]
  },
  {
   "cell_type": "code",
   "execution_count": null,
   "metadata": {},
   "outputs": [],
   "source": [
    "even(22)"
   ]
  },
  {
   "cell_type": "code",
   "execution_count": null,
   "metadata": {},
   "outputs": [],
   "source": []
  },
  {
   "cell_type": "code",
   "execution_count": null,
   "metadata": {},
   "outputs": [],
   "source": []
  }
 ],
 "metadata": {
  "kernelspec": {
   "display_name": "Python 3",
   "language": "python",
   "name": "python3"
  },
  "language_info": {
   "codemirror_mode": {
    "name": "ipython",
    "version": 3
   },
   "file_extension": ".py",
   "mimetype": "text/x-python",
   "name": "python",
   "nbconvert_exporter": "python",
   "pygments_lexer": "ipython3",
   "version": "3.7.3"
  }
 },
 "nbformat": 4,
 "nbformat_minor": 2
}
