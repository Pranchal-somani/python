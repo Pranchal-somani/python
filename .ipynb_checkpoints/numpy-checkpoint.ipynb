{
 "cells": [
  {
   "cell_type": "code",
   "execution_count": 2,
   "metadata": {},
   "outputs": [],
   "source": [
    "import numpy as np\n"
   ]
  },
  {
   "cell_type": "code",
   "execution_count": 3,
   "metadata": {},
   "outputs": [],
   "source": [
    "import random "
   ]
  },
  {
   "cell_type": "code",
   "execution_count": 3,
   "metadata": {},
   "outputs": [],
   "source": [
    "a = [random.randint(1,10) for var in range(25)]"
   ]
  },
  {
   "cell_type": "code",
   "execution_count": 4,
   "metadata": {},
   "outputs": [
    {
     "data": {
      "text/plain": [
       "[1, 6, 2, 9, 2, 8, 4, 9, 10, 8, 3, 7, 10, 5, 7, 1, 2, 8, 1, 3, 5, 2, 1, 6, 7]"
      ]
     },
     "execution_count": 4,
     "metadata": {},
     "output_type": "execute_result"
    }
   ],
   "source": [
    "a"
   ]
  },
  {
   "cell_type": "code",
   "execution_count": 5,
   "metadata": {},
   "outputs": [
    {
     "data": {
      "text/plain": [
       "array([ 1,  6,  2,  9,  2,  8,  4,  9, 10,  8,  3,  7, 10,  5,  7,  1,  2,\n",
       "        8,  1,  3,  5,  2,  1,  6,  7])"
      ]
     },
     "execution_count": 5,
     "metadata": {},
     "output_type": "execute_result"
    }
   ],
   "source": [
    "np.array(a)"
   ]
  },
  {
   "cell_type": "code",
   "execution_count": 11,
   "metadata": {},
   "outputs": [
    {
     "ename": "AttributeError",
     "evalue": "module 'numpy' has no attribute 'a'",
     "output_type": "error",
     "traceback": [
      "\u001b[1;31m---------------------------------------------------------------------------\u001b[0m",
      "\u001b[1;31mAttributeError\u001b[0m                            Traceback (most recent call last)",
      "\u001b[1;32m<ipython-input-11-c22bc2d3f538>\u001b[0m in \u001b[0;36m<module>\u001b[1;34m\u001b[0m\n\u001b[1;32m----> 1\u001b[1;33m \u001b[0mnp\u001b[0m\u001b[1;33m.\u001b[0m\u001b[0ma\u001b[0m\u001b[1;33m.\u001b[0m\u001b[0mreshape\u001b[0m\u001b[1;33m(\u001b[0m\u001b[1;36m5\u001b[0m\u001b[1;33m,\u001b[0m\u001b[1;36m5\u001b[0m\u001b[1;33m)\u001b[0m\u001b[1;33m\u001b[0m\u001b[1;33m\u001b[0m\u001b[0m\n\u001b[0m",
      "\u001b[1;31mAttributeError\u001b[0m: module 'numpy' has no attribute 'a'"
     ]
    }
   ],
   "source": [
    "np.a.reshape(5,5)"
   ]
  },
  {
   "cell_type": "code",
   "execution_count": 7,
   "metadata": {},
   "outputs": [
    {
     "data": {
      "text/plain": [
       "25"
      ]
     },
     "execution_count": 7,
     "metadata": {},
     "output_type": "execute_result"
    }
   ],
   "source": [
    "len(a)"
   ]
  },
  {
   "cell_type": "code",
   "execution_count": 13,
   "metadata": {},
   "outputs": [
    {
     "data": {
      "text/plain": [
       "array([[1, 2],\n",
       "       [3, 4]])"
      ]
     },
     "execution_count": 13,
     "metadata": {},
     "output_type": "execute_result"
    }
   ],
   "source": [
    "np.array([1,2,3,4]).reshape(2,2)"
   ]
  },
  {
   "cell_type": "code",
   "execution_count": 19,
   "metadata": {},
   "outputs": [],
   "source": [
    "a=np.random.randint(30,50,10)"
   ]
  },
  {
   "cell_type": "code",
   "execution_count": 20,
   "metadata": {},
   "outputs": [
    {
     "data": {
      "text/plain": [
       "array([47, 41, 48, 41, 49, 48, 45, 32, 46, 46])"
      ]
     },
     "execution_count": 20,
     "metadata": {},
     "output_type": "execute_result"
    }
   ],
   "source": [
    "a"
   ]
  },
  {
   "cell_type": "code",
   "execution_count": 42,
   "metadata": {},
   "outputs": [],
   "source": [
    "b= np.random.randint(100,200,40)"
   ]
  },
  {
   "cell_type": "code",
   "execution_count": 43,
   "metadata": {},
   "outputs": [
    {
     "data": {
      "text/plain": [
       "array([197, 148, 191, 113, 147, 166, 172, 134, 109, 128, 126, 185, 160,\n",
       "       111, 106, 117, 152, 180, 164, 156, 197, 186, 162, 147, 110, 165,\n",
       "       158, 165, 168, 122, 121, 154, 106, 163, 176, 172, 122, 179, 183,\n",
       "       156])"
      ]
     },
     "execution_count": 43,
     "metadata": {},
     "output_type": "execute_result"
    }
   ],
   "source": [
    "b"
   ]
  },
  {
   "cell_type": "code",
   "execution_count": 75,
   "metadata": {},
   "outputs": [],
   "source": [
    "data = np.append(a,b)\n",
    "#data=a"
   ]
  },
  {
   "cell_type": "code",
   "execution_count": 76,
   "metadata": {},
   "outputs": [
    {
     "data": {
      "text/plain": [
       "array([ 47,  41,  48,  41,  49,  48,  45,  32,  46,  46, 197, 148, 191,\n",
       "       113, 147, 166, 172, 134, 109, 128, 126, 185, 160, 111, 106, 117,\n",
       "       152, 180, 164, 156, 197, 186, 162, 147, 110, 165, 158, 165, 168,\n",
       "       122, 121, 154, 106, 163, 176, 172, 122, 179, 183, 156])"
      ]
     },
     "execution_count": 76,
     "metadata": {},
     "output_type": "execute_result"
    }
   ],
   "source": [
    "data"
   ]
  },
  {
   "cell_type": "code",
   "execution_count": 77,
   "metadata": {},
   "outputs": [
    {
     "name": "stdout",
     "output_type": "stream",
     "text": [
      "deviation= 41.3392\n",
      "130.34\n",
      "2448.0643999999998\n",
      "49.47791830705896\n"
     ]
    }
   ],
   "source": [
    "mean=data.mean()\n",
    "dev = abs(data-mean).sum()/data.size\n",
    "print('deviation=',dev)\n",
    "print(mean)\n",
    "var=data.var()\n",
    "print(var)\n",
    "std = data.std()\n",
    "print(std)"
   ]
  },
  {
   "cell_type": "code",
   "execution_count": 78,
   "metadata": {},
   "outputs": [],
   "source": [
    "import matplotlib.pyplot as plt"
   ]
  },
  {
   "cell_type": "code",
   "execution_count": 79,
   "metadata": {},
   "outputs": [
    {
     "data": {
      "image/png": "[encoded data removed]",
      "text/plain": [
       "<Figure size 432x288 with 1 Axes>"
      ]
     },
     "metadata": {
      "needs_background": "light"
     },
     "output_type": "display_data"
    }
   ],
   "source": [
    "plt.hist(data,30,edgecolor=\"black\")\n",
    "plt.show()"
   ]
  },
  {
   "cell_type": "code",
   "execution_count": 83,
   "metadata": {},
   "outputs": [
    {
     "data": {
      "image/png": "[encoded data removed]",
      "text/plain": [
       "<Figure size 432x288 with 1 Axes>"
      ]
     },
     "metadata": {
      "needs_background": "light"
     },
     "output_type": "display_data"
    }
   ],
   "source": [
    "plt.plot(data,'go',label='data')\n",
    "plt.plot([0,data.size],[mean,mean],'r',lw=3,label='mean')\n",
    "plt.plot([0,data.size],[mean+dev,mean+dev],c='b')\n",
    "plt.plot([0,data.size],[mean-dev,mean-dev],c='b',label=\"dev\")\n",
    "#plt.plot([0,data.size],[mean+var,mean+var],c='k')\n",
    "#plt.plot([0,data.size],[mean-var,mean-var],c='k',label=\"var\")\n",
    "plt.plot([0,data.size],[mean+std,mean+std],c='y',lw=3)\n",
    "plt.plot([0,data.size],[mean-std,mean-std],c='y',lw=3,label=\"std\")\n",
    "#plt.plot([0,data.size],[median,median],'b',lw=3,label=\"median\")\n",
    "for i in range(data.size) :\n",
    "    plt.plot([i,i],[mean,data[i]],'c--')\n",
    "plt.legend(loc=1)\n",
    "plt.show()"
   ]
  },
  {
   "cell_type": "code",
   "execution_count": 80,
   "metadata": {},
   "outputs": [
    {
     "name": "stdout",
     "output_type": "stream",
     "text": [
      "147.5\n"
     ]
    }
   ],
   "source": [
    "median = np.median(data)\n",
    "print(median)"
   ]
  },
  {
   "cell_type": "code",
   "execution_count": 81,
   "metadata": {},
   "outputs": [
    {
     "data": {
      "image/png": "[encoded data removed]",
      "text/plain": [
       "<Figure size 432x288 with 1 Axes>"
      ]
     },
     "metadata": {
      "needs_background": "light"
     },
     "output_type": "display_data"
    }
   ],
   "source": [
    "\n",
    "plt.plot(data,'go',label='data')\n",
    "plt.plot([0,data.size],[mean,mean],'r',lw=3,label='mean')\n",
    "plt.plot([0,data.size],[mean+dev,mean+dev],c='b')\n",
    "plt.plot([0,data.size],[mean-dev,mean-dev],c='b',label=\"dev\")\n",
    "plt.plot([0,data.size],[mean+std,mean+std],c='y',lw=3)\n",
    "plt.plot([0,data.size],[mean-std,mean-std],c='y',lw=3,label=\"std\")\n",
    "#plt.plot([0,data.size],[median,median],'b',lw=3,label=\"median\")\n",
    "for i in range(data.size) :\n",
    "    plt.plot([i,i],[mean,data[i]],'c--')\n",
    "plt.legend()\n",
    "plt.show()"
   ]
  },
  {
   "cell_type": "code",
   "execution_count": 64,
   "metadata": {},
   "outputs": [],
   "source": [
    "x=np.random.randint(1,100,1000)"
   ]
  },
  {
   "cell_type": "code",
   "execution_count": 65,
   "metadata": {},
   "outputs": [
    {
     "data": {
      "text/plain": [
       "array([98, 93, 54, 14, 28,  2, 93, 56, 52, 19, 46, 10, 15, 11, 94,  3, 24,\n",
       "       35, 55, 78, 53, 37, 70,  8, 75, 92, 21, 34, 68, 77, 71, 28, 78, 82,\n",
       "       38, 30,  4, 18, 55, 72, 43, 33, 65, 36, 52, 87, 36, 99, 21, 65, 48,\n",
       "       90, 98, 46, 35, 13, 80, 22, 27, 83, 67, 84, 99, 77, 12, 44, 37, 93,\n",
       "        1, 47, 90, 15,  1, 47, 65, 58, 17, 98, 14, 66, 51, 65, 50, 82, 78,\n",
       "       45, 77, 47, 86, 27, 37, 79, 23, 58,  7, 15, 58, 91,  7,  2, 80, 11,\n",
       "       18, 14, 78, 49, 97, 99, 19, 91, 12, 55, 85,  4, 41, 27, 83, 24, 75,\n",
       "       69, 82, 61, 43, 70, 83, 86, 46, 65, 51, 91, 57, 87, 23, 45, 50, 61,\n",
       "       24, 90, 87, 27, 13, 55, 94, 38, 82, 79, 49, 76, 27, 98, 62, 99, 28,\n",
       "       28, 47, 58, 14, 65, 85,  1, 90, 41, 44, 98, 34, 49, 49, 74, 57, 78,\n",
       "       44, 59, 32, 46, 92, 81, 64, 25, 97, 50, 13, 45, 21, 94, 48, 63, 88,\n",
       "       14, 22, 85, 43, 46,  3, 18, 32, 64, 51, 84, 24, 59, 23, 32,  3, 10,\n",
       "       71, 50, 68, 16, 11, 88, 25, 56, 35, 88, 73, 90, 75, 39, 14, 64, 54,\n",
       "       87, 99, 57,  2, 57, 98, 18, 53, 87,  9, 97, 12, 76, 93, 61, 98, 46,\n",
       "       99, 79, 57, 84, 21, 10, 30, 93, 85, 43,  4, 80, 31, 49, 55, 55, 19,\n",
       "       65,  6, 56,  5,  9, 90,  4, 19,  9,  7, 27, 22, 99, 28, 94, 36, 93,\n",
       "       72, 98,  4, 91, 15, 78, 14, 73, 18, 51,  8, 51, 96, 51, 40, 17,  8,\n",
       "       73, 16,  3, 31, 38, 77, 79, 45, 78, 42, 73, 95, 63, 53, 92, 86,  2,\n",
       "       72, 79, 77, 60, 25, 67, 22, 45, 18, 12, 94, 34, 62, 63,  7, 42,  9,\n",
       "       74, 64,  2, 85, 52, 65, 80, 66, 16, 63, 64, 24, 18, 63, 37, 90, 98,\n",
       "       71, 31, 50, 14, 95, 78, 75, 37, 62,  2, 93, 57,  4, 89, 58, 53,  1,\n",
       "       83,  6, 13,  8, 56, 24, 94, 98, 10, 38, 36, 52, 90, 30, 54, 61, 23,\n",
       "       67, 36, 26, 75, 65, 22, 66, 12, 25, 72, 12, 68, 92, 75, 20, 54, 38,\n",
       "       85, 31, 79,  7, 71, 65, 22, 71,  3, 65, 69, 43, 33, 66, 74, 26, 51,\n",
       "       75, 95, 78, 55, 10, 50, 44, 14, 47, 12, 14, 15, 44, 48, 96,  6,  5,\n",
       "       81, 15, 84, 41, 47, 17, 54, 11, 24, 14, 21, 37, 87, 24, 56, 57, 24,\n",
       "       87, 47, 22, 58, 42, 83, 45, 12, 17, 42, 62, 36, 54, 90, 23, 57, 53,\n",
       "       71, 59, 41, 45, 28, 23, 56, 74, 46, 13, 84, 14, 17, 10, 76, 45, 90,\n",
       "       48, 20, 17, 15, 31, 20, 19, 58, 67, 70, 97, 37, 97, 49, 31, 32, 51,\n",
       "       36, 44, 81,  2, 20,  8, 35, 98, 19, 72, 86, 18, 39, 19, 52, 80, 64,\n",
       "       27,  7, 65,  8, 44, 41, 69, 53, 22, 12, 38, 44, 33, 31,  5, 64, 10,\n",
       "       45, 44, 87, 53, 51, 12, 44, 84, 94, 84, 96, 50, 38, 37, 41, 80, 73,\n",
       "       91, 31, 63, 33, 43, 63, 54, 90, 77, 56, 51, 13, 98, 24,  9, 32, 39,\n",
       "       68, 98, 97, 22, 64, 23, 26, 69, 77, 36, 65, 62, 49, 29, 24, 65, 44,\n",
       "       94, 47, 21, 96, 72, 13, 33, 53, 40, 85, 66, 62, 26, 84, 47, 96, 94,\n",
       "        8, 21, 47, 91, 93, 80, 78, 77, 18, 14, 91, 92, 54, 87, 61, 90, 66,\n",
       "        5, 93, 72, 37, 37,  9, 37, 99, 69, 73, 73, 70, 90, 38, 35, 18, 62,\n",
       "       54, 79, 65, 79, 74, 21, 42, 71, 88, 45, 15, 39, 94, 18, 58, 93, 96,\n",
       "       67, 21, 60, 74, 31, 16, 48, 31, 16, 16, 36, 56, 64, 43, 30, 87, 63,\n",
       "       60, 44, 25, 60, 45,  9, 78, 98, 82, 75, 55,  1, 87, 45, 76, 51, 50,\n",
       "       59, 50, 27, 15, 43, 51,  3, 17, 93, 11, 97, 10, 43, 89, 82, 88, 16,\n",
       "       97, 53, 20, 81, 29, 48, 29, 95, 53, 43, 19, 40, 16, 95, 64, 84, 73,\n",
       "       34, 54, 72, 75, 97, 61, 56, 95, 89, 68, 58, 37, 51, 27, 94, 56, 29,\n",
       "       19, 44, 46, 26, 89, 28, 76, 62, 36, 62,  5, 56,  5, 73, 53, 64, 59,\n",
       "       34,  7, 38, 12, 19, 18, 31, 20,  2, 41, 59, 13, 72, 75, 12,  2, 43,\n",
       "       70, 22, 51, 49,  6, 97,  5, 46, 50, 49, 40, 45, 77, 71, 30, 78, 85,\n",
       "       96, 86, 71, 65, 16, 46, 99, 78, 41, 42, 99, 75, 28, 35, 60, 45, 12,\n",
       "       95,  3, 36,  4, 60, 36, 20, 77, 44, 97, 92, 18, 29, 87, 42, 80,  8,\n",
       "       43, 72, 64, 17, 26, 10, 56, 59, 80, 91, 77, 53, 59, 97, 99,  4, 35,\n",
       "       86, 36, 35, 22, 53, 77, 24, 87, 20, 79, 76, 94, 74, 66, 54,  3, 88,\n",
       "       73, 10, 93,  4,  4, 36,  7, 97, 30, 95, 37, 26, 19, 99, 84, 25, 30,\n",
       "       87, 37, 72, 56, 69, 72, 78, 58, 98, 69, 62, 81, 32, 78, 65, 45, 76,\n",
       "       91, 72, 23,  5, 88, 66, 96, 24, 73,  7, 72, 54, 52, 56, 87, 18, 23,\n",
       "       36, 28, 93, 48, 41, 22, 56, 55, 42, 69, 11, 42, 97,  8, 85, 17, 93,\n",
       "       56, 12, 51,  4, 59,  8, 20, 78, 28, 47,  4, 96, 17, 30, 93, 93, 56,\n",
       "       22, 77, 50, 84,  5, 38, 85, 68, 66, 70, 52, 76, 98,  7, 46, 55, 58,\n",
       "       43, 29, 26, 98, 48, 30, 12, 50,  4, 87, 73, 36,  8, 44, 18, 34, 34,\n",
       "       82, 79, 21, 18, 63, 19, 74, 58, 74, 54, 74, 59, 14, 62,  1, 47,  1,\n",
       "       96, 87, 16, 80, 24, 11, 34, 31, 20, 93, 36, 14, 93,  2])"
      ]
     },
     "execution_count": 65,
     "metadata": {},
     "output_type": "execute_result"
    }
   ],
   "source": [
    "x"
   ]
  },
  {
   "cell_type": "code",
   "execution_count": null,
   "metadata": {},
   "outputs": [],
   "source": [
    "#variance= "
   ]
  }
 ],
 "metadata": {
  "kernelspec": {
   "display_name": "Python 3",
   "language": "python",
   "name": "python3"
  },
  "language_info": {
   "codemirror_mode": {
    "name": "ipython",
    "version": 3
   },
   "file_extension": ".py",
   "mimetype": "text/x-python",
   "name": "python",
   "nbconvert_exporter": "python",
   "pygments_lexer": "ipython3",
   "version": "3.7.3"
  }
 },
 "nbformat": 4,
 "nbformat_minor": 2
}
