{
 "cells": [
  {
   "cell_type": "code",
   "execution_count": 6,
   "metadata": {},
   "outputs": [],
   "source": [
    "import numpy as np\n"
   ]
  },
  {
   "cell_type": "code",
   "execution_count": 7,
   "metadata": {},
   "outputs": [],
   "source": [
    "import random "
   ]
  },
  {
   "cell_type": "code",
   "execution_count": 8,
   "metadata": {},
   "outputs": [],
   "source": [
    "a = [random.randint(1,10) for var in range(25)]"
   ]
  },
  {
   "cell_type": "code",
   "execution_count": 9,
   "metadata": {},
   "outputs": [
    {
     "data": {
      "text/plain": [
       "[4, 2, 2, 3, 8, 9, 10, 8, 7, 8, 7, 5, 6, 6, 7, 10, 10, 5, 4, 9, 10, 3, 6, 6, 1]"
      ]
     },
     "execution_count": 9,
     "metadata": {},
     "output_type": "execute_result"
    }
   ],
   "source": [
    "a"
   ]
  },
  {
   "cell_type": "code",
   "execution_count": 10,
   "metadata": {},
   "outputs": [
    {
     "data": {
      "text/plain": [
       "array([ 4,  2,  2,  3,  8,  9, 10,  8,  7,  8,  7,  5,  6,  6,  7, 10, 10,\n",
       "        5,  4,  9, 10,  3,  6,  6,  1])"
      ]
     },
     "execution_count": 10,
     "metadata": {},
     "output_type": "execute_result"
    }
   ],
   "source": [
    "np.array(a)"
   ]
  },
  {
   "cell_type": "code",
   "execution_count": 11,
   "metadata": {},
   "outputs": [
    {
     "ename": "AttributeError",
     "evalue": "module 'numpy' has no attribute 'a'",
     "output_type": "error",
     "traceback": [
      "\u001b[1;31m---------------------------------------------------------------------------\u001b[0m",
      "\u001b[1;31mAttributeError\u001b[0m                            Traceback (most recent call last)",
      "\u001b[1;32m<ipython-input-11-c22bc2d3f538>\u001b[0m in \u001b[0;36m<module>\u001b[1;34m\u001b[0m\n\u001b[1;32m----> 1\u001b[1;33m \u001b[0mnp\u001b[0m\u001b[1;33m.\u001b[0m\u001b[0ma\u001b[0m\u001b[1;33m.\u001b[0m\u001b[0mreshape\u001b[0m\u001b[1;33m(\u001b[0m\u001b[1;36m5\u001b[0m\u001b[1;33m,\u001b[0m\u001b[1;36m5\u001b[0m\u001b[1;33m)\u001b[0m\u001b[1;33m\u001b[0m\u001b[1;33m\u001b[0m\u001b[0m\n\u001b[0m",
      "\u001b[1;31mAttributeError\u001b[0m: module 'numpy' has no attribute 'a'"
     ]
    }
   ],
   "source": [
    "np.a.reshape(5,5)"
   ]
  },
  {
   "cell_type": "code",
   "execution_count": 12,
   "metadata": {},
   "outputs": [
    {
     "data": {
      "text/plain": [
       "25"
      ]
     },
     "execution_count": 12,
     "metadata": {},
     "output_type": "execute_result"
    }
   ],
   "source": [
    "len(a)"
   ]
  },
  {
   "cell_type": "code",
   "execution_count": 13,
   "metadata": {},
   "outputs": [
    {
     "data": {
      "text/plain": [
       "array([[1, 2],\n",
       "       [3, 4]])"
      ]
     },
     "execution_count": 13,
     "metadata": {},
     "output_type": "execute_result"
    }
   ],
   "source": [
    "np.array([1,2,3,4]).reshape(2,2)"
   ]
  },
  {
   "cell_type": "code",
   "execution_count": 14,
   "metadata": {},
   "outputs": [],
   "source": [
    "a=np.random.randint(30,50,10)"
   ]
  },
  {
   "cell_type": "code",
   "execution_count": 15,
   "metadata": {},
   "outputs": [
    {
     "data": {
      "text/plain": [
       "array([41, 43, 30, 40, 47, 40, 45, 35, 41, 32])"
      ]
     },
     "execution_count": 15,
     "metadata": {},
     "output_type": "execute_result"
    }
   ],
   "source": [
    "a"
   ]
  },
  {
   "cell_type": "code",
   "execution_count": 16,
   "metadata": {},
   "outputs": [],
   "source": [
    "b= np.random.randint(100,200,40)"
   ]
  },
  {
   "cell_type": "code",
   "execution_count": 17,
   "metadata": {},
   "outputs": [
    {
     "data": {
      "text/plain": [
       "array([181, 117, 139, 167, 118, 101, 185, 145, 118, 116, 193, 134, 162,\n",
       "       135, 118, 108, 180, 148, 118, 147, 160, 176, 174, 187, 100, 140,\n",
       "       115, 109, 103, 166, 198, 129, 101, 169, 176, 143, 149, 110, 157,\n",
       "       104])"
      ]
     },
     "execution_count": 17,
     "metadata": {},
     "output_type": "execute_result"
    }
   ],
   "source": [
    "b"
   ]
  },
  {
   "cell_type": "code",
   "execution_count": 18,
   "metadata": {},
   "outputs": [],
   "source": [
    "data = np.append(a,b)\n",
    "#data=a"
   ]
  },
  {
   "cell_type": "code",
   "execution_count": 19,
   "metadata": {},
   "outputs": [
    {
     "data": {
      "text/plain": [
       "array([ 41,  43,  30,  40,  47,  40,  45,  35,  41,  32, 181, 117, 139,\n",
       "       167, 118, 101, 185, 145, 118, 116, 193, 134, 162, 135, 118, 108,\n",
       "       180, 148, 118, 147, 160, 176, 174, 187, 100, 140, 115, 109, 103,\n",
       "       166, 198, 129, 101, 169, 176, 143, 149, 110, 157, 104])"
      ]
     },
     "execution_count": 19,
     "metadata": {},
     "output_type": "execute_result"
    }
   ],
   "source": [
    "data"
   ]
  },
  {
   "cell_type": "code",
   "execution_count": 20,
   "metadata": {},
   "outputs": [
    {
     "name": "stdout",
     "output_type": "stream",
     "text": [
      "deviation= 39.8\n",
      "121.8\n",
      "2400.72\n",
      "48.99714277383937\n"
     ]
    }
   ],
   "source": [
    "mean=data.mean()\n",
    "dev = abs(data-mean).sum()/data.size\n",
    "print('deviation=',dev)\n",
    "print(mean)\n",
    "var=data.var()\n",
    "print(var)\n",
    "std = data.std()\n",
    "print(std)"
   ]
  },
  {
   "cell_type": "code",
   "execution_count": 21,
   "metadata": {},
   "outputs": [],
   "source": [
    "import matplotlib.pyplot as plt"
   ]
  },
  {
   "cell_type": "code",
   "execution_count": 22,
   "metadata": {},
   "outputs": [
    {
     "data": {
      "image/png": "[encoded data removed]",
      "text/plain": [
       "<Figure size 432x288 with 1 Axes>"
      ]
     },
     "metadata": {
      "needs_background": "light"
     },
     "output_type": "display_data"
    }
   ],
   "source": [
    "plt.hist(data,30,edgecolor=\"red\")\n",
    "plt.show()"
   ]
  },
  {
   "cell_type": "code",
   "execution_count": 23,
   "metadata": {},
   "outputs": [
    {
     "data": {
      "image/png": "[encoded data removed]",
      "text/plain": [
       "<Figure size 432x288 with 1 Axes>"
      ]
     },
     "metadata": {
      "needs_background": "light"
     },
     "output_type": "display_data"
    }
   ],
   "source": [
    "plt.plot(data,'go',label='data')\n",
    "plt.plot([0,data.size],[mean,mean],'r',lw=3,label='mean')\n",
    "plt.plot([0,data.size],[mean+dev,mean+dev],c='b')\n",
    "plt.plot([0,data.size],[mean-dev,mean-dev],c='b',label=\"dev\")\n",
    "#plt.plot([0,data.size],[mean+var,mean+var],c='k')\n",
    "#plt.plot([0,data.size],[mean-var,mean-var],c='k',label=\"var\")\n",
    "plt.plot([0,data.size],[mean+std,mean+std],c='y',lw=3)\n",
    "plt.plot([0,data.size],[mean-std,mean-std],c='y',lw=3,label=\"std\")\n",
    "#plt.plot([0,data.size],[median,median],'b',lw=3,label=\"median\")\n",
    "for i in range(data.size) :\n",
    "    plt.plot([i,i],[mean,data[i]],'c--')\n",
    "plt.legend(loc=2)\n",
    "plt.show()"
   ]
  },
  {
   "cell_type": "markdown",
   "metadata": {},
   "source": [
    "## median = np.median(data)\n",
    "print(median)"
   ]
  },
  {
   "cell_type": "code",
   "execution_count": 24,
   "metadata": {},
   "outputs": [
    {
     "data": {
      "image/png": "[encoded data removed]",
      "text/plain": [
       "<Figure size 432x288 with 1 Axes>"
      ]
     },
     "metadata": {
      "needs_background": "light"
     },
     "output_type": "display_data"
    }
   ],
   "source": [
    "\n",
    "plt.plot(data,'go',label='data')\n",
    "plt.plot([0,data.size],[mean,mean],'r',lw=3,label='mean')\n",
    "plt.plot([0,data.size],[mean+dev,mean+dev],c='b')\n",
    "plt.plot([0,data.size],[mean-dev,mean-dev],c='b',label=\"dev\")\n",
    "plt.plot([0,data.size],[mean+std,mean+std],c='y',lw=3)\n",
    "plt.plot([0,data.size],[mean-std,mean-std],c='y',lw=3,label=\"std\")\n",
    "#plt.plot([0,data.size],[median,median],'b',lw=3,label=\"median\")\n",
    "for i in range(data.size) :\n",
    "    plt.legend(loc=2)\n",
    "    plt.plot([i,i],[mean,data[i]],'c--')\n",
    "plt.show()"
   ]
  },
  {
   "cell_type": "code",
   "execution_count": 25,
   "metadata": {},
   "outputs": [],
   "source": [
    "x=np.random.randint(1,100,1000)"
   ]
  },
  {
   "cell_type": "code",
   "execution_count": 26,
   "metadata": {},
   "outputs": [
    {
     "data": {
      "text/plain": [
       "array([63, 42, 47, 89,  3, 72, 89, 13, 34, 27, 54, 14, 41, 74, 58, 63, 43,\n",
       "       34, 69, 14, 72, 87, 83, 82, 61, 68, 93, 94, 94, 86, 52, 10, 91, 82,\n",
       "       34, 39, 22, 85,  2, 95, 95, 26, 52,  5, 63,  7, 15, 95, 30, 41, 64,\n",
       "       45, 91, 67, 66,  3, 41, 73, 99, 58, 87, 86, 72, 21, 51, 70, 47, 71,\n",
       "       53, 70, 52, 38, 97, 90, 15, 10, 91,  1, 22, 35, 56, 96, 80, 65, 68,\n",
       "       49, 43, 29, 41, 43, 91, 23, 44,  9, 56, 41, 80, 97, 71, 49, 35, 79,\n",
       "       96,  3,  8, 85, 15, 61, 59, 33, 68, 85, 23, 31, 38, 55, 78, 65, 15,\n",
       "       29, 16, 55, 56, 44, 97, 19, 71, 27, 11, 69, 72, 73, 72, 89, 59, 90,\n",
       "       73, 11, 65, 72, 28, 82, 38, 27,  5, 85, 95, 69, 87, 12, 45, 85, 17,\n",
       "       47,  5, 94, 29, 49, 35, 97, 45, 44, 77, 98, 37, 31, 74, 55, 51, 84,\n",
       "       46,  1, 57, 46, 46, 59, 28, 37, 92, 19,  2, 34,  2, 20, 94, 45, 80,\n",
       "        1, 10, 42, 59, 35, 54, 35, 48, 89, 88, 63, 63, 10, 28, 48, 32, 68,\n",
       "       86,  2, 20, 94, 26, 96, 37,  8, 89, 78, 96, 61,  4, 62, 60, 28, 27,\n",
       "       12, 49, 45, 83, 40, 29, 44, 60, 55, 75, 34, 53, 94, 94, 30, 49,  9,\n",
       "       11, 12, 89, 44, 13,  6, 87, 94, 71,  4, 23, 33, 44, 68, 70, 73, 65,\n",
       "       19, 56, 26, 21, 62, 12, 56, 98, 18, 27, 34, 64, 61, 38, 38, 86, 43,\n",
       "       79, 96, 92,  3, 80, 18, 81, 27, 78, 74, 93, 27, 92, 20, 87, 76, 73,\n",
       "       85, 94, 57, 84, 52, 52, 16, 19, 33, 31, 16, 47, 71, 74, 29, 41, 80,\n",
       "       61,  7, 45, 96, 73, 64, 29, 99, 84, 57, 80,  7, 31, 90,  6, 58, 28,\n",
       "       69, 51, 42, 44, 23, 80, 57, 13, 84, 15, 26, 32, 76, 94, 10, 11, 42,\n",
       "       81, 52, 25, 67, 52, 84, 96,  8,  9, 49, 29, 13, 46, 84, 37, 65, 71,\n",
       "       50, 57,  3, 73, 80, 14, 52, 88, 89, 32, 26, 20, 67, 17, 44, 18, 80,\n",
       "       45, 67, 12, 82, 94, 29, 46, 56, 90, 38, 15, 64, 89, 44, 62,  7, 81,\n",
       "       17, 95,  4, 38, 68,  6, 22, 23,  2, 95,  2, 75, 18, 28, 37, 59, 22,\n",
       "       50, 78, 16, 63, 74, 13, 86, 29, 39, 44, 45, 12, 97, 17, 65, 91, 27,\n",
       "       87, 36, 79, 29, 49, 99, 73, 45, 99, 26, 19, 27, 23, 61, 75, 83, 89,\n",
       "        2, 28, 41, 53, 59, 75, 71, 96, 13, 58, 55, 56, 24, 47, 81, 58, 85,\n",
       "       55, 42, 37, 53, 35, 96, 95, 74, 53, 93, 81, 95,  9, 65, 11,  3,  2,\n",
       "       57, 17, 89, 38, 48, 64, 39, 16, 32, 23, 92, 49, 16, 38, 84, 28, 24,\n",
       "       33, 72, 32, 30, 98, 90, 79, 63, 13,  4, 94, 49, 29, 70, 61, 25, 42,\n",
       "       30, 68, 41, 68, 38, 44, 44, 89, 68, 42, 20, 99, 66, 37, 12, 15, 33,\n",
       "       26, 64, 21, 11, 31, 69,  8, 39,  7, 62, 73, 59,  2, 23,  4, 67, 85,\n",
       "       63, 19, 93, 97, 61, 72, 24, 49, 58, 53, 76, 36, 74, 70, 50, 12, 43,\n",
       "       86, 60, 95, 86, 72, 28, 59, 24, 59,  1, 64, 25, 93, 67, 54, 89, 21,\n",
       "       53, 77,  1, 10, 67, 31, 16, 70, 33,  2, 20, 72, 36, 47, 79, 83, 72,\n",
       "       62, 95, 55, 33, 64, 82, 77, 45, 45, 38, 79, 71, 25, 20, 24, 68, 21,\n",
       "       73, 85, 25, 12, 73, 75, 99,  2, 53, 86, 45, 56, 27, 88, 42, 45, 56,\n",
       "       18, 15, 29, 74, 98, 22, 69,  2, 92, 41, 22, 54, 49, 84, 51, 84, 55,\n",
       "       52, 13, 81, 86, 21,  1, 36, 45, 29, 25, 15, 50, 49, 10, 90, 94, 79,\n",
       "        7, 59, 56, 26,  6, 60, 56, 99,  8, 31, 34, 70, 38, 72,  4, 20, 63,\n",
       "       36, 96, 63, 86, 81,  3, 12, 50, 22, 17, 80, 84, 55, 74, 70, 85, 42,\n",
       "       67, 95, 12, 42, 84, 22, 92, 40, 78, 17, 85, 66, 85,  1, 33, 59, 55,\n",
       "       51, 91, 85,  1, 81, 29, 96, 13, 80, 76, 60, 46, 87, 36, 59, 36, 14,\n",
       "        5, 91, 29, 38, 61, 22, 34, 70, 96, 83,  4, 32, 83, 10, 41, 81, 27,\n",
       "       55, 13, 56, 53,  8,  9, 30, 94, 19, 14, 39, 24, 13, 17, 69, 84, 91,\n",
       "       34, 61, 63, 11, 30, 65, 68, 29, 91, 48,  9, 95,  1,  4, 37, 61, 75,\n",
       "       72, 74, 83, 34, 53, 79, 66, 28, 47, 69, 72, 35,  4, 61, 18,  9, 77,\n",
       "       92, 44, 39, 53, 81, 52, 68, 54, 30, 56, 30, 30, 37, 45, 54, 44, 84,\n",
       "       49, 67, 78, 70, 34, 22, 43, 94, 44,  3, 15, 35, 86, 77, 30, 75, 49,\n",
       "       56, 65, 58, 17, 95, 42, 84, 67, 91, 44, 32, 22, 10, 94, 44, 91, 21,\n",
       "       56, 63, 92, 26, 19, 50, 63,  2, 92, 21, 54, 93, 18, 53, 63, 97, 36,\n",
       "       17, 47, 61, 78, 18, 77, 71, 43, 47, 56,  4, 78, 87,  7, 54, 88, 37,\n",
       "       48, 28, 62, 18, 64, 19, 51, 25, 77,  4, 44, 53, 80, 69, 39, 28, 50,\n",
       "       57, 44, 13, 61, 13, 96, 32, 82,  4, 60, 70, 55, 38, 94, 84, 35,  4,\n",
       "       49, 29,  3, 19, 26, 31, 67, 55, 94,  8, 23, 78, 72,  7, 77, 91, 53,\n",
       "       73, 96, 65, 98,  9, 43, 18, 31, 59, 15, 66, 45, 48, 89, 56, 22, 53,\n",
       "       51,  3, 47, 50, 38, 32, 39, 96, 99, 22, 58, 57, 20, 48, 88, 76,  5,\n",
       "       17, 20, 14, 11,  5,  5, 73, 98, 70, 36,  6, 41, 64, 21, 98, 52, 37,\n",
       "       45, 38, 21, 29, 26, 66, 46, 85, 25, 73, 54, 79, 19, 95])"
      ]
     },
     "execution_count": 26,
     "metadata": {},
     "output_type": "execute_result"
    }
   ],
   "source": [
    "x"
   ]
  },
  {
   "cell_type": "code",
   "execution_count": 27,
   "metadata": {},
   "outputs": [],
   "source": [
    "a=np.random.randint(1,30,20)"
   ]
  },
  {
   "cell_type": "code",
   "execution_count": 28,
   "metadata": {},
   "outputs": [
    {
     "data": {
      "text/plain": [
       "array([ 3, 16, 23, 19, 13,  1,  9,  8, 15, 22,  3, 18, 23, 16, 22, 16, 10,\n",
       "       28, 14, 23])"
      ]
     },
     "execution_count": 28,
     "metadata": {},
     "output_type": "execute_result"
    }
   ],
   "source": [
    "a"
   ]
  },
  {
   "cell_type": "code",
   "execution_count": 29,
   "metadata": {},
   "outputs": [],
   "source": [
    "b=np.random.randint(60,80,40)"
   ]
  },
  {
   "cell_type": "code",
   "execution_count": 30,
   "metadata": {},
   "outputs": [
    {
     "data": {
      "text/plain": [
       "array([62, 68, 65, 62, 72, 62, 63, 72, 78, 63, 68, 69, 72, 77, 65, 74, 74,\n",
       "       73, 65, 76, 77, 63, 69, 60, 66, 66, 71, 62, 72, 71, 71, 67, 73, 66,\n",
       "       73, 66, 64, 63, 72, 69])"
      ]
     },
     "execution_count": 30,
     "metadata": {},
     "output_type": "execute_result"
    }
   ],
   "source": [
    "b"
   ]
  },
  {
   "cell_type": "code",
   "execution_count": 40,
   "metadata": {},
   "outputs": [
    {
     "name": "stdout",
     "output_type": "stream",
     "text": [
      "mean= 50.71666666666667\n",
      "var= 668.036388888889\n",
      "std= 25.84639992124414\n",
      "dev= 23.744444444444444\n"
     ]
    }
   ],
   "source": [
    "data=np.append(a,b)\n",
    "mean=data.mean()\n",
    "var=data.var()\n",
    "std=data.std()\n",
    "dev=abs(data-mean).sum()/data.size\n",
    "print(\"mean=\",mean)\n",
    "print('var=',var)\n",
    "print('std=',std)\n",
    "print('dev=',dev)"
   ]
  },
  {
   "cell_type": "code",
   "execution_count": 32,
   "metadata": {},
   "outputs": [
    {
     "data": {
      "text/plain": [
       "array([ 3, 16, 23, 19, 13,  1,  9,  8, 15, 22,  3, 18, 23, 16, 22, 16, 10,\n",
       "       28, 14, 23, 62, 68, 65, 62, 72, 62, 63, 72, 78, 63, 68, 69, 72, 77,\n",
       "       65, 74, 74, 73, 65, 76, 77, 63, 69, 60, 66, 66, 71, 62, 72, 71, 71,\n",
       "       67, 73, 66, 73, 66, 64, 63, 72, 69])"
      ]
     },
     "execution_count": 32,
     "metadata": {},
     "output_type": "execute_result"
    }
   ],
   "source": [
    "data"
   ]
  },
  {
   "cell_type": "code",
   "execution_count": 33,
   "metadata": {},
   "outputs": [
    {
     "data": {
      "image/png": "[encoded data removed]",
      "text/plain": [
       "<Figure size 432x288 with 1 Axes>"
      ]
     },
     "metadata": {
      "needs_background": "light"
     },
     "output_type": "display_data"
    }
   ],
   "source": [
    "plt.hist(data,30,edgecolor=\"black\")\n",
    "plt.show()"
   ]
  },
  {
   "cell_type": "code",
   "execution_count": 34,
   "metadata": {},
   "outputs": [
    {
     "data": {
      "image/png": "[encoded data removed]",
      "text/plain": [
       "<Figure size 432x288 with 1 Axes>"
      ]
     },
     "metadata": {
      "needs_background": "light"
     },
     "output_type": "display_data"
    }
   ],
   "source": [
    "plt.plot(data,'ro',label='data')\n",
    "plt.show()"
   ]
  },
  {
   "cell_type": "code",
   "execution_count": 43,
   "metadata": {},
   "outputs": [
    {
     "data": {
      "image/png": "[encoded data removed]",
      "text/plain": [
       "<Figure size 432x288 with 1 Axes>"
      ]
     },
     "metadata": {
      "needs_background": "light"
     },
     "output_type": "display_data"
    }
   ],
   "source": [
    "plt.plot(data,'ro',label='data')\n",
    "plt.plot([0,data.size],[mean,mean],'g',lw=2,label='mean')\n",
    "plt.plot([0,data.size],[mean+dev,mean+dev],'k',lw=2)\n",
    "plt.plot([0,data.size],[mean-dev,mean-dev],'k',lw=2,label='dev')\n",
    "plt.plot([0,data.size],[mean+std,mean+std],'k',lw=2)\n",
    "plt.plot([0,data.size],[mean-std,mean-std],'k',lw=2,label='dev')\n",
    "for i in range(data.size) :\n",
    "    plt.plot([i,i],[mean,data[i]],'c--')\n",
    "    \n",
    "plt.legend()\n",
    "plt.show()"
   ]
  },
  {
   "cell_type": "code",
   "execution_count": 41,
   "metadata": {},
   "outputs": [
    {
     "data": {
      "image/png": "[encoded data removed]",
      "text/plain": [
       "<Figure size 432x288 with 1 Axes>"
      ]
     },
     "metadata": {
      "needs_background": "light"
     },
     "output_type": "display_data"
    }
   ],
   "source": [
    "plt.plot(data,'ro',label='data')\n",
    "plt.plot([0,data.size],[mean,mean],'g',lw=2,label='mean')\n",
    "plt.legend()\n",
    "plt.show()"
   ]
  },
  {
   "cell_type": "code",
   "execution_count": null,
   "metadata": {},
   "outputs": [],
   "source": []
  },
  {
   "cell_type": "code",
   "execution_count": null,
   "metadata": {},
   "outputs": [],
   "source": []
  }
 ],
 "metadata": {
  "kernelspec": {
   "display_name": "Python 3",
   "language": "python",
   "name": "python3"
  },
  "language_info": {
   "codemirror_mode": {
    "name": "ipython",
    "version": 3
   },
   "file_extension": ".py",
   "mimetype": "text/x-python",
   "name": "python",
   "nbconvert_exporter": "python",
   "pygments_lexer": "ipython3",
   "version": "3.7.3"
  }
 },
 "nbformat": 4,
 "nbformat_minor": 2
}
