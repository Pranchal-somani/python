{
 "cells": [
  {
   "cell_type": "code",
   "execution_count": null,
   "metadata": {},
   "outputs": [],
   "source": [
    "data=[1]\n",
    "for var in data :\n",
    "    data.append(data[-1]**data[-1]+2)\n",
    "    print (var)"
   ]
  },
  {
   "cell_type": "markdown",
   "metadata": {},
   "source": [
    "# functions\n"
   ]
  },
  {
   "cell_type": "markdown",
   "metadata": {},
   "source": [
    "# syntax of function\n",
    "  def func_name(par1,par2,par3) : #signature of function\n",
    "      statement 1\n",
    "      statement 2 \n",
    "         .   .    .\n",
    "      statement 3\n",
    "      return value\n",
    "    \n",
    "  func_name(arg1,arg2,arg3)"
   ]
  },
  {
   "cell_type": "code",
   "execution_count": 1,
   "metadata": {},
   "outputs": [],
   "source": [
    "def hi() :\n",
    "    \"\"\"\n",
    "    hi --> none\n",
    "    descr --> i m here to greet you\n",
    "    \"\"\"\n",
    "    print(\"hi world\")"
   ]
  },
  {
   "cell_type": "code",
   "execution_count": 3,
   "metadata": {},
   "outputs": [
    {
     "name": "stdout",
     "output_type": "stream",
     "text": [
      "\n",
      "    hi --> none\n",
      "    descr --> i m here to greet you\n",
      "    \n"
     ]
    }
   ],
   "source": [
    "print(hi.__doc__)"
   ]
  },
  {
   "cell_type": "code",
   "execution_count": null,
   "metadata": {},
   "outputs": [],
   "source": [
    "hi()"
   ]
  }
 ],
 "metadata": {
  "kernelspec": {
   "display_name": "Python 3",
   "language": "python",
   "name": "python3"
  },
  "language_info": {
   "codemirror_mode": {
    "name": "ipython",
    "version": 3
   },
   "file_extension": ".py",
   "mimetype": "text/x-python",
   "name": "python",
   "nbconvert_exporter": "python",
   "pygments_lexer": "ipython3",
   "version": "3.7.3"
  }
 },
 "nbformat": 4,
 "nbformat_minor": 2
}
