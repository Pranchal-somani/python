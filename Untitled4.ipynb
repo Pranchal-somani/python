{
 "cells": [
  {
   "cell_type": "code",
   "execution_count": null,
   "metadata": {},
   "outputs": [
    {
     "name": "stdout",
     "output_type": "stream",
     "text": [
      "enter your choice :7\n"
     ]
    }
   ],
   "source": [
    "#prime no using while\n",
    "c=2\n",
    "num=int(input(\"enter your choice :\"))\n",
    "while c< num//2 :\n",
    "    if num %c ==0 :\n",
    "        print(f\"{num} is not prime\")\n",
    "        break\n",
    "else :\n",
    "    print(f\"{num} is prime\")"
   ]
  },
  {
   "cell_type": "code",
   "execution_count": null,
   "metadata": {},
   "outputs": [],
   "source": []
  }
 ],
 "metadata": {
  "kernelspec": {
   "display_name": "Python 3",
   "language": "python",
   "name": "python3"
  },
  "language_info": {
   "codemirror_mode": {
    "name": "ipython",
    "version": 3
   },
   "file_extension": ".py",
   "mimetype": "text/x-python",
   "name": "python",
   "nbconvert_exporter": "python",
   "pygments_lexer": "ipython3",
   "version": "3.7.3"
  }
 },
 "nbformat": 4,
 "nbformat_minor": 2
}
