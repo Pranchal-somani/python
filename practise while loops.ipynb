{
 "cells": [
  {
   "cell_type": "code",
   "execution_count": 1,
   "metadata": {},
   "outputs": [
    {
     "name": "stdout",
     "output_type": "stream",
     "text": [
      "* * * * * * * * * * \n",
      "* * * * * * * * * * \n",
      "* * * * * * * * * * \n",
      "* * * * * * * * * * \n",
      "* * * * * * * * * * \n",
      "* * * * * * * * * * \n",
      "* * * * * * * * * * \n",
      "* * * * * * * * * * \n",
      "* * * * * * * * * * \n",
      "* * * * * * * * * * \n"
     ]
    }
   ],
   "source": [
    "row=1\n",
    "while row <=10 :\n",
    "    col =1\n",
    "    while col <=10 :\n",
    "        print(\"*\",end= \" \")\n",
    "        col+=1\n",
    "    print()\n",
    "    row+=1\n",
    "    "
   ]
  },
  {
   "cell_type": "code",
   "execution_count": 2,
   "metadata": {},
   "outputs": [
    {
     "name": "stdout",
     "output_type": "stream",
     "text": [
      "* \n",
      "* * \n",
      "* * * \n",
      "* * * * \n",
      "* * * * * \n",
      "* * * * * * \n",
      "* * * * * * * \n",
      "* * * * * * * * \n",
      "* * * * * * * * * \n",
      "* * * * * * * * * * \n"
     ]
    }
   ],
   "source": [
    "row=1\n",
    "while row <=10 :\n",
    "    col =1\n",
    "    while col <=10 :\n",
    "        if row >=col :\n",
    "            print(\"*\",end= \" \")\n",
    "        col+=1\n",
    "    print()\n",
    "    row+=1\n",
    "    "
   ]
  },
  {
   "cell_type": "code",
   "execution_count": 3,
   "metadata": {},
   "outputs": [
    {
     "name": "stdout",
     "output_type": "stream",
     "text": [
      "                  * \n",
      "                * * \n",
      "              * * * \n",
      "            * * * * \n",
      "          * * * * * \n",
      "        * * * * * * \n",
      "      * * * * * * * \n",
      "    * * * * * * * * \n",
      "  * * * * * * * * * \n",
      "* * * * * * * * * * \n"
     ]
    }
   ],
   "source": [
    "row=1\n",
    "while row <=10 :\n",
    "    col =1\n",
    "    while col <=10 :\n",
    "        if col <=10-row :\n",
    "            print(\" \",end= \" \")\n",
    "        else :\n",
    "            print(\"*\",end=\" \")\n",
    "        col+=1\n",
    "    print()\n",
    "    row+=1\n",
    "    "
   ]
  },
  {
   "cell_type": "code",
   "execution_count": 4,
   "metadata": {},
   "outputs": [
    {
     "name": "stdout",
     "output_type": "stream",
     "text": [
      "* * * * * * * * * \n",
      "* * * * * * * * \n",
      "* * * * * * * \n",
      "* * * * * * \n",
      "* * * * * \n",
      "* * * * \n",
      "* * * \n",
      "* * \n",
      "* \n",
      "\n"
     ]
    }
   ],
   "source": [
    "row=1\n",
    "while row <=10 :\n",
    "    col =1\n",
    "    while col <=10 :\n",
    "        if col <11-row :\n",
    "            print(\"*\",end= \" \")\n",
    "        col+=1\n",
    "    print()\n",
    "    row+=1\n",
    "    "
   ]
  },
  {
   "cell_type": "code",
   "execution_count": 5,
   "metadata": {},
   "outputs": [
    {
     "name": "stdout",
     "output_type": "stream",
     "text": [
      "  * * * * * * * * * \n",
      "    * * * * * * * * \n",
      "      * * * * * * * \n",
      "        * * * * * * \n",
      "          * * * * * \n",
      "            * * * * \n",
      "              * * * \n",
      "                * * \n",
      "                  * \n",
      "                    \n"
     ]
    }
   ],
   "source": [
    "row=1\n",
    "while row <=10 :\n",
    "    col =1\n",
    "    while col <=10 :\n",
    "        if col > row :\n",
    "            print(\"*\",end= \" \")\n",
    "        else :\n",
    "            print(\" \",end= \" \")\n",
    "        col+=1\n",
    "    print()\n",
    "    row+=1\n",
    "    "
   ]
  },
  {
   "cell_type": "code",
   "execution_count": 1,
   "metadata": {},
   "outputs": [
    {
     "name": "stdout",
     "output_type": "stream",
     "text": [
      "                  * \n",
      "                * * \n",
      "              * * * \n",
      "            * * * * \n",
      "          * * * * * \n",
      "        * * * * * * \n",
      "      * * * * * * * \n",
      "    * * * * * * * * \n",
      "  * * * * * * * * * \n",
      "* * * * * * * * * * \n"
     ]
    }
   ],
   "source": [
    "row=1\n",
    "while row <=10 :\n",
    "    col =1\n",
    "    while col <=10 :\n",
    "        if col >10-row :\n",
    "            print(\"*\",end= \" \")\n",
    "        else:\n",
    "            print(\" \",end= \" \")\n",
    "        \n",
    "        col+=1\n",
    "    while col <10-row :\n",
    "        print(\"*\",end= \" \")\n",
    "    print()\n",
    "    row+=1 \n",
    "    "
   ]
  },
  {
   "cell_type": "code",
   "execution_count": 24,
   "metadata": {},
   "outputs": [
    {
     "name": "stdout",
     "output_type": "stream",
     "text": [
      "enter yur range :6\n",
      "****** \n",
      "*****  *\n",
      "****   **\n",
      "***    ***\n",
      "**     ****\n",
      "*      *****\n"
     ]
    }
   ],
   "source": [
    "num=int(input(\"enter yur range :\"))\n",
    "for var in range(1,num+1):\n",
    "    print( \"*\"*((num+1)-var) +\" \"*var ,end=\"\")\n",
    "    if var >1 :\n",
    "        print(\"*\"*(var-1),end= \"\")\n",
    "    print()"
   ]
  },
  {
   "cell_type": "code",
   "execution_count": 39,
   "metadata": {},
   "outputs": [
    {
     "name": "stdout",
     "output_type": "stream",
     "text": [
      "key1\t=\tvalue1\n",
      "k2\t=\tv2\n"
     ]
    }
   ],
   "source": [
    "for x,y in {\"key1\":\"value1\",\"k2\":\"v2\"}.items() :\n",
    "    print(x,y ,sep=\"\\t=\\t\")"
   ]
  },
  {
   "cell_type": "code",
   "execution_count": 45,
   "metadata": {},
   "outputs": [
    {
     "name": "stdout",
     "output_type": "stream",
     "text": [
      "enter 10 no :1 2 3 4 5 6 7 8 9 10\n",
      "1\n",
      "4\n",
      "9\n",
      "16\n",
      "25\n",
      "36\n",
      "49\n",
      "64\n",
      "81\n",
      "100\n"
     ]
    }
   ],
   "source": [
    "for var in map(int,input(\"enter 10 no :\").split()) :\n",
    "    print(var**2)"
   ]
  },
  {
   "cell_type": "code",
   "execution_count": 47,
   "metadata": {},
   "outputs": [
    {
     "name": "stdout",
     "output_type": "stream",
     "text": [
      "-10 -9 -8 -7 -6 -5 -4 -3 -2 -1 0 1 2 3 4 5 6 7 8 9\n"
     ]
    }
   ],
   "source": [
    "print (*range(-10,10))"
   ]
  },
  {
   "cell_type": "code",
   "execution_count": 48,
   "metadata": {},
   "outputs": [
    {
     "data": {
      "text/plain": [
       "[6, 8, 3, 9, 10, 5, 10, 7, 5, 8]"
      ]
     },
     "execution_count": 48,
     "metadata": {},
     "output_type": "execute_result"
    }
   ],
   "source": [
    "from random import randint \n",
    "nums = [randint(1,10) for var in range(10)]\n",
    "nums"
   ]
  },
  {
   "cell_type": "code",
   "execution_count": null,
   "metadata": {},
   "outputs": [],
   "source": []
  }
 ],
 "metadata": {
  "kernelspec": {
   "display_name": "Python 3",
   "language": "python",
   "name": "python3"
  },
  "language_info": {
   "codemirror_mode": {
    "name": "ipython",
    "version": 3
   },
   "file_extension": ".py",
   "mimetype": "text/x-python",
   "name": "python",
   "nbconvert_exporter": "python",
   "pygments_lexer": "ipython3",
   "version": "3.7.3"
  }
 },
 "nbformat": 4,
 "nbformat_minor": 2
}
