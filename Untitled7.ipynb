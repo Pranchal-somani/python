{
 "cells": [
  {
   "cell_type": "code",
   "execution_count": 5,
   "metadata": {},
   "outputs": [
    {
     "name": "stdout",
     "output_type": "stream",
     "text": [
      "enter a no x :2\n",
      "enter a no y :0\n",
      "error!! cannot divide  by zero\n",
      "finally executed\n"
     ]
    }
   ],
   "source": [
    "try :\n",
    "    x=int(input('enter a no x :'))\n",
    "    y=int(input(\"enter a no y :\"))\n",
    "    result =x/y\n",
    "except :\n",
    "    print(\"error!! cannot divide  by zero\")\n",
    "else :\n",
    "    print(f\"done the  ans is {result:.2f}\")\n",
    "finally :\n",
    "    print(\"finally executed\")\n",
    "    "
   ]
  },
  {
   "cell_type": "code",
   "execution_count": 13,
   "metadata": {},
   "outputs": [
    {
     "name": "stdout",
     "output_type": "stream",
     "text": [
      "enter a no x :2\n",
      "enter a no y :0\n",
      "r u a dumbass\n",
      " division by zero\n",
      "finally executed\n"
     ]
    }
   ],
   "source": [
    "try :\n",
    "    x=int(input('enter a no x :'))\n",
    "    y=int(input(\"enter a no y :\"))\n",
    "    result =x/y\n",
    "except ValueError as e :\n",
    "    print(\"error!! give a integer\")\n",
    "except Exception as e :\n",
    "    print(\"r u a dumbass\\n\",e)\n",
    "else :\n",
    "    print(f\"done the  ans is {result:.2f}\")\n",
    "finally :\n",
    "    print(\"finally executed\")\n"
   ]
  },
  {
   "cell_type": "code",
   "execution_count": null,
   "metadata": {},
   "outputs": [],
   "source": []
  }
 ],
 "metadata": {
  "kernelspec": {
   "display_name": "Python 3",
   "language": "python",
   "name": "python3"
  },
  "language_info": {
   "codemirror_mode": {
    "name": "ipython",
    "version": 3
   },
   "file_extension": ".py",
   "mimetype": "text/x-python",
   "name": "python",
   "nbconvert_exporter": "python",
   "pygments_lexer": "ipython3",
   "version": "3.7.3"
  }
 },
 "nbformat": 4,
 "nbformat_minor": 2
}
